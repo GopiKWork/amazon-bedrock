{
 "cells": [
  {
   "cell_type": "code",
   "execution_count": null,
   "id": "123dc35c-d4f7-4f42-9d02-fd5f9709e1c6",
   "metadata": {},
   "outputs": [],
   "source": [
    "!pip install boto3 --upgrade\n",
    "!pip install sagemaker --upgrade"
   ]
  },
  {
   "cell_type": "code",
   "execution_count": 1,
   "id": "d9f83d7c-16c6-4a3f-aed7-92cdfe77f417",
   "metadata": {},
   "outputs": [
    {
     "name": "stdout",
     "output_type": "stream",
     "text": [
      "sagemaker.config INFO - Not applying SDK defaults from location: /etc/xdg/sagemaker/config.yaml\n",
      "sagemaker.config INFO - Not applying SDK defaults from location: /home/sagemaker-user/.config/sagemaker/config.yaml\n"
     ]
    }
   ],
   "source": [
    "import boto3\n",
    "import json\n",
    "import sagemaker\n",
    "from IPython.display import HTML"
   ]
  },
  {
   "cell_type": "code",
   "execution_count": 2,
   "id": "c1ad3e96-7f2c-4010-97da-58273b8ac534",
   "metadata": {},
   "outputs": [],
   "source": [
    "sagemaker_session = sagemaker.Session()\n",
    "sm_client = boto3.Session().client('sagemaker')"
   ]
  },
  {
   "cell_type": "markdown",
   "id": "48b4a32a-dc2c-4e83-868a-c3d6e7a44bce",
   "metadata": {},
   "source": [
    "Setup Streamlit environemnt. Below assumes you have extracted code to /home/sagemaker-user/bedrock_onboarding directory\n",
    "\n",
    "```bash\n",
    "cd /home/sagemaker-user/aws-notebooklm\n",
    "conda env create -f environment.yml\n",
    "source activate aws-notebooklm-app\n",
    "```\n",
    "\n",
    "If you are running this in new SageMaker Stuido, perform following actions\n",
    "\n",
    "```bash\n",
    "\n",
    "Create a folder .streamlit under applications folder\n",
    "mkdir .streamlit\n",
    "\n",
    "In this folder create a file called config.toml and copy the following contents to that folder\n",
    "touch config.toml\n",
    "\n",
    "[server]\n",
    "enableXsrfProtection = false\n",
    "enableCORS = false\n",
    "\n",
    "[browser]\n",
    "gatherUsageStats = false\n",
    "```\n",
    "### Setup Environment variables\n",
    "Setup the environment variables in .env file under application folder. You can setup Region, Authentication mechanism and other variables here."
   ]
  },
  {
   "cell_type": "markdown",
   "id": "a1703cd5-b11c-4474-95a0-93a427ab6c40",
   "metadata": {},
   "source": [
    "## Run application \n",
    "Run the following command to launch demo application. This runs the application to run on port 8081, restrict maximum file size for upload to 10MB. Both settings can be changed.\n",
    "\n",
    "```bash\n",
    "streamlit run AWS_Podcast_Generator.py --server.port 6006 --server.maxUploadSize 10\n",
    "```"
   ]
  },
  {
   "cell_type": "code",
   "execution_count": 3,
   "id": "7faa48ec-9fe3-484b-be41-d0a75d449f77",
   "metadata": {},
   "outputs": [
    {
     "name": "stdout",
     "output_type": "stream",
     "text": [
      "Studio Domain: d-9vucfenphesr; Region: us-west-2, Studio Type: Studio\n"
     ]
    }
   ],
   "source": [
    "#Read Studio meta data to get Domain, User Profile details\n",
    "with open('/opt/ml/metadata/resource-metadata.json','r') as cf:\n",
    "    meta_data = json.load(cf)\n",
    "\n",
    "studio_domain = meta_data['DomainId']\n",
    "application_type = meta_data['AppType']\n",
    "studio_region = sagemaker_session.boto_region_name\n",
    "role_arn = sagemaker_session.get_caller_identity_arn()\n",
    "studio_type = 'Studio' if application_type == 'JupyterLab' else 'Studio Classic'\n",
    "domian_settings = sm_client.describe_domain(DomainId=studio_domain)\n",
    "print(f'Studio Domain: {studio_domain}; Region: {studio_region}, Studio Type: {studio_type}')"
   ]
  },
  {
   "cell_type": "markdown",
   "id": "a4a01f1d-bc01-4f5d-8e13-651dde208c04",
   "metadata": {},
   "source": [
    "## Launch the application UI from SageMaker Studio\n",
    "\n",
    "If you are running this app from SageMaker studio, you need a proxy to run the application. \n",
    "Below code will help you lanuch the application after you have started it. Check the value of variable ``studio_type``"
   ]
  },
  {
   "cell_type": "code",
   "execution_count": 4,
   "id": "943a08e3-f843-4e81-ad4e-bdf11a6d24aa",
   "metadata": {},
   "outputs": [],
   "source": [
    "space_name = meta_data['SpaceName']\n",
    "space_settings = sm_client.describe_space(\n",
    "    DomainId=studio_domain,    \n",
    "    SpaceName=space_name\n",
    ")\n",
    "user_profile_name = space_settings['OwnershipSettings']['OwnerUserProfileName']\n",
    "studio_url = space_settings['Url']"
   ]
  },
  {
   "cell_type": "code",
   "execution_count": 5,
   "id": "a1be887e-9a6d-45bd-a4e3-7783fa418c65",
   "metadata": {},
   "outputs": [
    {
     "data": {
      "text/html": [
       "<a href='https://dqwtnopuodooicl.studio.us-west-2.sagemaker.aws/jupyterlab/default/proxy/6006/'>Click to launch on New SageMaker Studio</a>"
      ],
      "text/plain": [
       "<IPython.core.display.HTML object>"
      ]
     },
     "execution_count": 5,
     "metadata": {},
     "output_type": "execute_result"
    }
   ],
   "source": [
    "#If you are running this in a new SageMaker Studio, run the following\n",
    "proxy_port = 6006\n",
    "app_url = f'{studio_url}/proxy/{proxy_port}/'\n",
    "HTML(f\"<a href='{app_url}'>Click to launch on New SageMaker Studio</a>\")"
   ]
  },
  {
   "cell_type": "markdown",
   "id": "8adb41b4-435e-43c0-bf2c-476af146235c",
   "metadata": {},
   "source": [
    "## Stop & Clean-up\n",
    "To stop the application, go to terminal and kill the application Ctrl +C\n",
    "Deactivate conda environment created to exit out\n",
    "\n",
    "```bash\n",
    "conda deactivate \n",
    "```\n",
    "\n",
    "You can view all conda environments by running this command\n",
    "```bash\n",
    "conda env list\n",
    "```\n",
    "\n",
    "Remove the environment created\n",
    "\n",
    "```bash\n",
    "conda remove --name aws-notebooklm-app --all\n",
    "```\n",
    "\n",
    "To verify that the environment was removed, run\n",
    "```bash\n",
    "conda info --envs"
   ]
  },
  {
   "cell_type": "code",
   "execution_count": null,
   "id": "90aa7b1f-800b-42e2-8bd3-63c1ab87a4af",
   "metadata": {},
   "outputs": [],
   "source": []
  }
 ],
 "metadata": {
  "kernelspec": {
   "display_name": "Python 3 (ipykernel)",
   "language": "python",
   "name": "python3"
  },
  "language_info": {
   "codemirror_mode": {
    "name": "ipython",
    "version": 3
   },
   "file_extension": ".py",
   "mimetype": "text/x-python",
   "name": "python",
   "nbconvert_exporter": "python",
   "pygments_lexer": "ipython3",
   "version": "3.10.14"
  }
 },
 "nbformat": 4,
 "nbformat_minor": 5
}
