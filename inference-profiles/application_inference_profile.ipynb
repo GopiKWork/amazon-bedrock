{
 "cells": [
  {
   "cell_type": "markdown",
   "id": "24b7b4c3-441f-4aa0-b652-6470abee1e63",
   "metadata": {},
   "source": [
    "# Amazon Bedrock Application Inference Profile\n",
    "\n",
    "Amazon Bedrock offersn two kinds of inference profiles\n",
    "* Cross region inference profiles – These are inference profiles predefined by Bedrock service (system defined) and routs the model requests to other regions and include multiple Regions to which requests for a model can be routed. This helps to improve resilience and improe throughputs. You can effectively manage traffic bursts with this feature. \n",
    "* Application Inference profiles - These are inference profiles created by users (user defined). This helps our customers to track costs and model usage. You can create an inference profile that routes model invocation requests to one region (with foundation model ID) or to multiple regions (by using cross region inference profile ID)\n",
    "\n",
    "With applciaiton inference profile you have following benefits\n",
    "\n",
    "Track usage metrics – When you enable model invocation logging and record to CloudWatch logs, you can track requests submitted  with an application inference profile to view usage metrics.\n",
    "\n",
    "Use tags to monitor costs – You can attach tags to an application inference profile and track costs for on-demand model invocation requests. \n",
    "\n",
    "Cross-region inference – Increase your throughput by using a cross regional inference profile when creating the applicaiton inference profile to distribute invocations across regions. \n",
    "\n"
   ]
  },
  {
   "cell_type": "markdown",
   "id": "5369eaa0-5983-4adf-a0ea-53a7616aad20",
   "metadata": {},
   "source": [
    "### Install dependecies"
   ]
  },
  {
   "cell_type": "code",
   "execution_count": null,
   "id": "9ecfefb2-2b51-47c8-9351-2eba17b842d5",
   "metadata": {},
   "outputs": [],
   "source": [
    "!pip install --upgrade --force-reinstall boto3 botocore awscli"
   ]
  },
  {
   "cell_type": "code",
   "execution_count": 1,
   "id": "9b1326b6-2f62-4c01-80cb-c11e6c9869c3",
   "metadata": {},
   "outputs": [
    {
     "name": "stdout",
     "output_type": "stream",
     "text": [
      "1.35.54\n"
     ]
    }
   ],
   "source": [
    "import boto3\n",
    "print(boto3.__version__)"
   ]
  },
  {
   "cell_type": "code",
   "execution_count": null,
   "id": "3e7d0b3e-a801-4243-b064-26a22c656f59",
   "metadata": {},
   "outputs": [],
   "source": [
    "import boto3\n",
    "import sagemaker\n",
    "import re\n",
    "import time\n",
    "import json\n",
    "\n",
    "session = boto3.Session()\n",
    "sagemaker_session = sagemaker.Session()\n",
    "role = sagemaker.get_execution_role()\n",
    "studio_region = sagemaker_session.boto_region_name \n",
    "\n",
    "bedrock = session.client(\"bedrock\", region_name=studio_region)\n",
    "br = session.client(\"bedrock-runtime\", region_name=studio_region)"
   ]
  },
  {
   "cell_type": "markdown",
   "id": "70bca13b-6909-4de8-ac3f-ca82694607f0",
   "metadata": {},
   "source": [
    "### List application inference profiles"
   ]
  },
  {
   "cell_type": "code",
   "execution_count": null,
   "id": "356ba8c3-5739-44f9-b700-80f0104d23e1",
   "metadata": {},
   "outputs": [],
   "source": [
    "bedrock.list_inference_profiles(typeEquals='APPLICATION')"
   ]
  },
  {
   "cell_type": "markdown",
   "id": "8b933439-83ce-41b5-881d-afcda3cc03e5",
   "metadata": {},
   "source": [
    "### List cross region inference profiles"
   ]
  },
  {
   "cell_type": "code",
   "execution_count": null,
   "id": "e88f82fa-0a07-42a0-b1f7-5aa550b6b578",
   "metadata": {},
   "outputs": [],
   "source": [
    "bedrock.list_inference_profiles(typeEquals='SYSTEM_DEFINED')"
   ]
  },
  {
   "cell_type": "code",
   "execution_count": 54,
   "id": "45c46b7a-b04a-4c8c-9fb6-fb2a425ce0f2",
   "metadata": {},
   "outputs": [
    {
     "data": {
      "text/plain": [
       "[{'modelArn': 'arn:aws:bedrock:us-west-2::foundation-model/anthropic.claude-3-5-sonnet-20241022-v2:0',\n",
       "  'modelName': 'Claude 3.5 Sonnet v2',\n",
       "  'modelId': 'anthropic.claude-3-5-sonnet-20241022-v2:0'},\n",
       " {'modelArn': 'arn:aws:bedrock:us-west-2::foundation-model/anthropic.claude-instant-v1:2:100k',\n",
       "  'modelName': 'Claude Instant',\n",
       "  'modelId': 'anthropic.claude-instant-v1:2:100k'},\n",
       " {'modelArn': 'arn:aws:bedrock:us-west-2::foundation-model/anthropic.claude-instant-v1',\n",
       "  'modelName': 'Claude Instant',\n",
       "  'modelId': 'anthropic.claude-instant-v1'},\n",
       " {'modelArn': 'arn:aws:bedrock:us-west-2::foundation-model/anthropic.claude-v2:0:18k',\n",
       "  'modelName': 'Claude',\n",
       "  'modelId': 'anthropic.claude-v2:0:18k'},\n",
       " {'modelArn': 'arn:aws:bedrock:us-west-2::foundation-model/anthropic.claude-v2:0:100k',\n",
       "  'modelName': 'Claude',\n",
       "  'modelId': 'anthropic.claude-v2:0:100k'},\n",
       " {'modelArn': 'arn:aws:bedrock:us-west-2::foundation-model/anthropic.claude-v2:1:18k',\n",
       "  'modelName': 'Claude',\n",
       "  'modelId': 'anthropic.claude-v2:1:18k'},\n",
       " {'modelArn': 'arn:aws:bedrock:us-west-2::foundation-model/anthropic.claude-v2:1:200k',\n",
       "  'modelName': 'Claude',\n",
       "  'modelId': 'anthropic.claude-v2:1:200k'},\n",
       " {'modelArn': 'arn:aws:bedrock:us-west-2::foundation-model/anthropic.claude-v2:1',\n",
       "  'modelName': 'Claude',\n",
       "  'modelId': 'anthropic.claude-v2:1'},\n",
       " {'modelArn': 'arn:aws:bedrock:us-west-2::foundation-model/anthropic.claude-v2',\n",
       "  'modelName': 'Claude',\n",
       "  'modelId': 'anthropic.claude-v2'},\n",
       " {'modelArn': 'arn:aws:bedrock:us-west-2::foundation-model/anthropic.claude-3-sonnet-20240229-v1:0:28k',\n",
       "  'modelName': 'Claude 3 Sonnet',\n",
       "  'modelId': 'anthropic.claude-3-sonnet-20240229-v1:0:28k'},\n",
       " {'modelArn': 'arn:aws:bedrock:us-west-2::foundation-model/anthropic.claude-3-sonnet-20240229-v1:0:200k',\n",
       "  'modelName': 'Claude 3 Sonnet',\n",
       "  'modelId': 'anthropic.claude-3-sonnet-20240229-v1:0:200k'},\n",
       " {'modelArn': 'arn:aws:bedrock:us-west-2::foundation-model/anthropic.claude-3-sonnet-20240229-v1:0',\n",
       "  'modelName': 'Claude 3 Sonnet',\n",
       "  'modelId': 'anthropic.claude-3-sonnet-20240229-v1:0'},\n",
       " {'modelArn': 'arn:aws:bedrock:us-west-2::foundation-model/anthropic.claude-3-haiku-20240307-v1:0:48k',\n",
       "  'modelName': 'Claude 3 Haiku',\n",
       "  'modelId': 'anthropic.claude-3-haiku-20240307-v1:0:48k'},\n",
       " {'modelArn': 'arn:aws:bedrock:us-west-2::foundation-model/anthropic.claude-3-haiku-20240307-v1:0:200k',\n",
       "  'modelName': 'Claude 3 Haiku',\n",
       "  'modelId': 'anthropic.claude-3-haiku-20240307-v1:0:200k'},\n",
       " {'modelArn': 'arn:aws:bedrock:us-west-2::foundation-model/anthropic.claude-3-haiku-20240307-v1:0',\n",
       "  'modelName': 'Claude 3 Haiku',\n",
       "  'modelId': 'anthropic.claude-3-haiku-20240307-v1:0'},\n",
       " {'modelArn': 'arn:aws:bedrock:us-west-2::foundation-model/anthropic.claude-3-opus-20240229-v1:0:12k',\n",
       "  'modelName': 'Claude 3 Opus',\n",
       "  'modelId': 'anthropic.claude-3-opus-20240229-v1:0:12k'},\n",
       " {'modelArn': 'arn:aws:bedrock:us-west-2::foundation-model/anthropic.claude-3-opus-20240229-v1:0:28k',\n",
       "  'modelName': 'Claude 3 Opus',\n",
       "  'modelId': 'anthropic.claude-3-opus-20240229-v1:0:28k'},\n",
       " {'modelArn': 'arn:aws:bedrock:us-west-2::foundation-model/anthropic.claude-3-opus-20240229-v1:0:200k',\n",
       "  'modelName': 'Claude 3 Opus',\n",
       "  'modelId': 'anthropic.claude-3-opus-20240229-v1:0:200k'},\n",
       " {'modelArn': 'arn:aws:bedrock:us-west-2::foundation-model/anthropic.claude-3-opus-20240229-v1:0',\n",
       "  'modelName': 'Claude 3 Opus',\n",
       "  'modelId': 'anthropic.claude-3-opus-20240229-v1:0'},\n",
       " {'modelArn': 'arn:aws:bedrock:us-west-2::foundation-model/anthropic.claude-3-5-sonnet-20240620-v1:0:18k',\n",
       "  'modelName': 'Claude 3.5 Sonnet',\n",
       "  'modelId': 'anthropic.claude-3-5-sonnet-20240620-v1:0:18k'},\n",
       " {'modelArn': 'arn:aws:bedrock:us-west-2::foundation-model/anthropic.claude-3-5-sonnet-20240620-v1:0:51k',\n",
       "  'modelName': 'Claude 3.5 Sonnet',\n",
       "  'modelId': 'anthropic.claude-3-5-sonnet-20240620-v1:0:51k'},\n",
       " {'modelArn': 'arn:aws:bedrock:us-west-2::foundation-model/anthropic.claude-3-5-sonnet-20240620-v1:0:200k',\n",
       "  'modelName': 'Claude 3.5 Sonnet',\n",
       "  'modelId': 'anthropic.claude-3-5-sonnet-20240620-v1:0:200k'},\n",
       " {'modelArn': 'arn:aws:bedrock:us-west-2::foundation-model/anthropic.claude-3-5-sonnet-20240620-v1:0',\n",
       "  'modelName': 'Claude 3.5 Sonnet',\n",
       "  'modelId': 'anthropic.claude-3-5-sonnet-20240620-v1:0'}]"
      ]
     },
     "execution_count": 54,
     "metadata": {},
     "output_type": "execute_result"
    }
   ],
   "source": [
    "models = [{'modelArn': fm['modelArn'], 'modelName':fm['modelName'], 'modelId': fm['modelId']} for fm in bedrock.list_foundation_models()['modelSummaries'] if fm['modelName'].startswith('Claude') and fm['modelLifecycle']['status']== 'ACTIVE']\n",
    "models"
   ]
  },
  {
   "cell_type": "markdown",
   "id": "2e5a8829-203c-4392-98ec-c3e92f7a26af",
   "metadata": {},
   "source": [
    "## Setup single Region application inference profile\n",
    "To create an application inference profile for one Region, specify a foundation model's ARN. Usage and costs for requests made to that Region with that model will be tracked. When creating the request you will supply following parameters\n",
    "\n",
    "* inferenceProfileName - name for the inference profile\n",
    "* modelSource - For single region you specify ARN of the foundation model in the copyFrom attribute\n",
    "* description -\tDescription of the inference profile (optional)\n",
    "* tags\t- Attach tags to the inference profile. You can track costs using AWS cost allocation tags. This could be your project ID, department ID or how you want to track the cost"
   ]
  },
  {
   "cell_type": "code",
   "execution_count": 46,
   "id": "20ca08cf-bed1-4b4a-a19d-54a42d220b00",
   "metadata": {},
   "outputs": [
    {
     "data": {
      "text/plain": [
       "('anthropic.claude-3-5-sonnet-20241022-v2:0',\n",
       " 'arn:aws:bedrock:us-west-2::foundation-model/anthropic.claude-3-5-sonnet-20241022-v2:0')"
      ]
     },
     "execution_count": 46,
     "metadata": {},
     "output_type": "execute_result"
    }
   ],
   "source": [
    "#Claude 3 Sonnet\n",
    "#Model ARN: arn:aws:bedrock:us-west-2::foundation-model/anthropic.claude-3-sonnet-20240229-v1:0:200k\n",
    "#Model ID: anthropic.claude-v2:1:200k\n",
    "\n",
    "modelId = 'anthropic.claude-3-5-sonnet-20241022-v2:0'\n",
    "modelARN = [m['modelArn'] for m in models if m['modelId'] == modelId][0]\n",
    "modelId, modelARN "
   ]
  },
  {
   "cell_type": "code",
   "execution_count": 47,
   "id": "541c75a6-9820-479d-a6ed-e089fd25eec5",
   "metadata": {},
   "outputs": [],
   "source": [
    "inf_profile_response = bedrock.create_inference_profile(\n",
    "    inferenceProfileName='ClaudeSonnetParts',\n",
    "    description='Application profile for Claude Sonnet 3.0',\n",
    "    modelSource={\n",
    "        'copyFrom': modelARN\n",
    "    },\n",
    "    tags=[\n",
    "        {\n",
    "            'key': 'projectId',\n",
    "            'value': 'partsUSXRC28'\n",
    "        },\n",
    "    ]\n",
    ")"
   ]
  },
  {
   "cell_type": "code",
   "execution_count": null,
   "id": "ea2afab6-3a7d-4ff9-b46a-43d8a53ff8e2",
   "metadata": {},
   "outputs": [],
   "source": [
    "inf_profile_arn = inf_profile_response['inferenceProfileArn']\n",
    "inf_profile_arn"
   ]
  },
  {
   "cell_type": "code",
   "execution_count": null,
   "id": "51e61e33-7522-417e-8731-29e7990648e1",
   "metadata": {},
   "outputs": [],
   "source": [
    "bedrock.get_inference_profile(inferenceProfileIdentifier=inf_profile_arn)"
   ]
  },
  {
   "cell_type": "code",
   "execution_count": 50,
   "id": "21ef6641-a1e9-4753-bbeb-ac73a45b4d58",
   "metadata": {},
   "outputs": [
    {
     "data": {
      "text/plain": [
       "'0swqzhpsd07r'"
      ]
     },
     "execution_count": 50,
     "metadata": {},
     "output_type": "execute_result"
    }
   ],
   "source": [
    "inf_profile_id = bedrock.get_inference_profile(inferenceProfileIdentifier=inf_profile_arn)['inferenceProfileId']\n",
    "inf_profile_id"
   ]
  },
  {
   "cell_type": "markdown",
   "id": "3ba274dd-5f08-4b0a-a241-4f8b7f5a0eb6",
   "metadata": {},
   "source": [
    "### Example usage with Converse API\n",
    "\n",
    "To use an inference profile specify the ARN) of the inference profile in the modelId field "
   ]
  },
  {
   "cell_type": "code",
   "execution_count": 52,
   "id": "fde3c71a-2904-45fb-8e5d-c3cceb26561b",
   "metadata": {},
   "outputs": [
    {
     "name": "stdout",
     "output_type": "stream",
     "text": [
      "Response time: 3 second(s)\n",
      "Using Application Inf Profile::Response output: [{'text': 'For most cost-effective document storage, Amazon S3 is the better choice compared to EFS because:\\n\\n1. S3 is significantly cheaper per GB of storage\\n2. S3 charges only for actual storage used\\n3. S3 has multiple storage tiers (like S3 Standard-IA, Glacier) for further cost optimization\\n4. No provisioning of capacity is needed\\n\\nEFS would be more appropriate when you need:\\n- File system semantics (POSIX)\\n- Shared file access from multiple EC2 instances\\n- Low-latency read/write access\\n\\nFor typical document storage use cases, S3 is more cost-effective and should be your default choice.'}]\n"
     ]
    }
   ],
   "source": [
    "from time import time\n",
    "system_prompt = \"You are an expert on AWS services and always provide correct and concise answers.\"\n",
    "input_message = \"Should I be storing documents in Amazon S3 or EFS for cost effective applications?\"\n",
    "start = time()\n",
    "response = br.converse(\n",
    "    modelId=inf_profile_arn,\n",
    "    system=[{\"text\": system_prompt}],\n",
    "    messages=[{\n",
    "        \"role\": \"user\",\n",
    "        \"content\": [{\"text\": input_message}]\n",
    "    }]\n",
    ")\n",
    "end = time()\n",
    "print(f\"Response time: {int(end-start)} second(s)\")\n",
    "print(f\"Using Application Inf Profile::Response output: {response['output']['message']['content']}\")"
   ]
  },
  {
   "cell_type": "markdown",
   "id": "b2e72e5f-4a9c-4fe1-949c-d7653b34fcfe",
   "metadata": {},
   "source": [
    "### Example usage with invoke model"
   ]
  },
  {
   "cell_type": "code",
   "execution_count": 57,
   "id": "cddcc2af-b50e-4549-87fd-d926bff7b1c9",
   "metadata": {},
   "outputs": [
    {
     "name": "stdout",
     "output_type": "stream",
     "text": [
      "Response output: For most cost-effective document storage, Amazon S3 is the better choice compared to EFS because:\n",
      "\n",
      "1. S3 is significantly cheaper per GB of storage\n",
      "2. S3 has multiple storage tiers (Standard, Infrequent Access, Glacier) to optimize costs\n",
      "3. You only pay for what you use with no pre-provisioning needed\n",
      "4. S3 is designed for object storage (like documents)\n",
      "\n",
      "Use EFS when you need:\n",
      "- Shared file system access\n",
      "- Linux-based file system features\n",
      "- Low-latency access from multiple EC2 instances simultaneously\n",
      "\n",
      "For simple document storage, S3 is more cost-effective and the recommended solution.\n"
     ]
    }
   ],
   "source": [
    "import json\n",
    "body = json.dumps({\n",
    "    \"anthropic_version\": \"bedrock-2023-05-31\",\n",
    "    \"max_tokens\": 1024,\n",
    "    \"temperature\": 0.1,\n",
    "    \"top_p\": 0.9,\n",
    "    \"system\": system_prompt,\n",
    "    \"messages\": [\n",
    "        {\n",
    "            \"role\": \"user\",\n",
    "            \"content\": [\n",
    "                {\n",
    "                    \"type\": \"text\",\n",
    "                    \"text\": f\"{input_message}\",\n",
    "                }\n",
    "            ]\n",
    "        }\n",
    "    ]\n",
    "})\n",
    "accept = 'application/json'\n",
    "contentType = 'application/json'\n",
    "start = time()\n",
    "response = br.invoke_model(body=body, modelId=inf_profile_arn, accept=accept, contentType=contentType)\n",
    "end = time()\n",
    "response_body = json.loads(response.get('body').read())\n",
    "print(f\"Response output: {response_body['content'][0]['text']}\")"
   ]
  },
  {
   "cell_type": "markdown",
   "id": "75275697-4a0d-4400-8f2b-7389bf4f7cf1",
   "metadata": {},
   "source": [
    "## Multiple regions application Inference Profile\n",
    "\n",
    "To create an application inference profile across regions, specify cross region inference profile's ARN and rest of the parameters remain same as single region application inference profile\n",
    "\n",
    "* inferenceProfileName - name for the inference profile\n",
    "* modelSource - For multi region application profile you specify ARN of the cross region (system-defined) inference profile in the copyFrom attribute\n",
    "* description -\tDescription of the inference profile (optional)\n",
    "* tags\t- Attach tags to the inference profile. You can track costs using AWS cost allocation tags. This could be your project ID, department ID or how you want to track the cost"
   ]
  },
  {
   "cell_type": "code",
   "execution_count": null,
   "id": "503adec7-f56e-4d44-9f6e-acab159790b5",
   "metadata": {},
   "outputs": [],
   "source": [
    "cr_inf_profile = [ip for ip in bedrock.list_inference_profiles(typeEquals='SYSTEM_DEFINED')['inferenceProfileSummaries'] if ip['inferenceProfileName'] == 'US Anthropic Claude 3.5 Sonnet v2'][0]\n",
    "cr_inf_profile"
   ]
  },
  {
   "cell_type": "code",
   "execution_count": 65,
   "id": "27dea0dc-8ac1-4418-b94f-707a89bf1f6d",
   "metadata": {},
   "outputs": [],
   "source": [
    "cr_inf_profile_arn = 'arn:aws:bedrock:us-west-2::foundation-model/anthropic.claude-3-5-sonnet-20241022-v2:0'\n",
    "cr_app_inf_profile_response = bedrock.create_inference_profile(\n",
    "    inferenceProfileName='ClaudeSonnetSupplyCrossRegion',\n",
    "    description='Application profile for Claude Sonnet 3.5 v2 with cross regional routing',\n",
    "    modelSource={\n",
    "        'copyFrom': cr_inf_profile_arn\n",
    "    },\n",
    "    tags=[\n",
    "        {\n",
    "            'key': 'projectId',\n",
    "            'value': 'supplyUSXRC28'\n",
    "        },\n",
    "    ]\n",
    ")"
   ]
  },
  {
   "cell_type": "code",
   "execution_count": null,
   "id": "0c49fbcd-a6b9-4d8e-9f5c-1176620e7e5c",
   "metadata": {},
   "outputs": [],
   "source": [
    "cr_app_inf_profile_arn = cr_app_inf_profile_response['inferenceProfileArn']\n",
    "cr_app_inf_profile_arn"
   ]
  },
  {
   "cell_type": "code",
   "execution_count": null,
   "id": "a82d3992-031c-461e-80ae-f69fcf5e7b70",
   "metadata": {},
   "outputs": [],
   "source": [
    "bedrock.get_inference_profile(inferenceProfileIdentifier=cr_app_inf_profile_arn)"
   ]
  },
  {
   "cell_type": "markdown",
   "id": "a8fa118b-b9a8-4825-9502-df4693b14be1",
   "metadata": {},
   "source": [
    "### Example usage Converse API"
   ]
  },
  {
   "cell_type": "code",
   "execution_count": 70,
   "id": "fabd26f0-3989-450f-95af-dd57cfb8cf4b",
   "metadata": {},
   "outputs": [
    {
     "name": "stdout",
     "output_type": "stream",
     "text": [
      "Response time: 4 second(s)\n",
      "Using Application Inf Profile::Response output: [{'text': 'For most cost-effective document storage, Amazon S3 is the better choice over EFS because:\\n\\n1. S3 is significantly cheaper for storage (around $0.023 per GB/month) compared to EFS (around $0.30 per GB/month)\\n\\n2. S3 is designed for object storage and optimized for documents, files, and infrequently accessed data\\n\\n3. S3 offers flexible storage tiers (Standard, IA, Glacier) to further optimize costs based on access patterns\\n\\nUse EFS instead when you need:\\n- Shared file system access\\n- Low-latency concurrent access from multiple EC2 instances\\n- POSIX file system capabilities\\n\\nFor typical document storage scenarios, S3 is the more cost-effective solution.'}]\n"
     ]
    }
   ],
   "source": [
    "from time import time\n",
    "system_prompt = \"You are an expert on AWS services and always provide correct and concise answers.\"\n",
    "input_message = \"Should I be storing documents in Amazon S3 or EFS for cost effective applications?\"\n",
    "start = time()\n",
    "response = br.converse(\n",
    "    modelId=cr_app_inf_profile_arn,\n",
    "    system=[{\"text\": system_prompt}],\n",
    "    messages=[{\n",
    "        \"role\": \"user\",\n",
    "        \"content\": [{\"text\": input_message}]\n",
    "    }]\n",
    ")\n",
    "end = time()\n",
    "print(f\"Response time: {int(end-start)} second(s)\")\n",
    "print(f\"Using Application Inf Profile::Response output: {response['output']['message']['content']}\")"
   ]
  },
  {
   "cell_type": "markdown",
   "id": "c1464a24-fb3b-417b-a653-d72886367cbb",
   "metadata": {},
   "source": [
    "### Example usage Invoke Model"
   ]
  },
  {
   "cell_type": "code",
   "execution_count": 71,
   "id": "a9ebca90-1a02-4820-99fc-7bbccb7400fe",
   "metadata": {},
   "outputs": [
    {
     "name": "stdout",
     "output_type": "stream",
     "text": [
      "Response output: For most cost-effective document storage, Amazon S3 is the better choice compared to EFS because:\n",
      "\n",
      "1. S3 is significantly cheaper per GB of storage\n",
      "2. S3 has pay-as-you-go pricing with no minimum commitments\n",
      "3. S3 offers different storage classes (like S3 Standard-IA, S3 One Zone-IA, S3 Glacier) to optimize costs based on access patterns\n",
      "4. S3 is serverless with no infrastructure to manage\n",
      "\n",
      "EFS is more suitable when you need:\n",
      "- File system semantics\n",
      "- Shared file access from multiple EC2 instances\n",
      "- Low-latency access with high IOPS\n",
      "- Linux-based file system operations\n",
      "\n",
      "For simple document storage, S3 is almost always the more cost-effective solution.\n"
     ]
    }
   ],
   "source": [
    "import json\n",
    "body = json.dumps({\n",
    "    \"anthropic_version\": \"bedrock-2023-05-31\",\n",
    "    \"max_tokens\": 1024,\n",
    "    \"temperature\": 0.1,\n",
    "    \"top_p\": 0.9,\n",
    "    \"system\": system_prompt,\n",
    "    \"messages\": [\n",
    "        {\n",
    "            \"role\": \"user\",\n",
    "            \"content\": [\n",
    "                {\n",
    "                    \"type\": \"text\",\n",
    "                    \"text\": f\"{input_message}\",\n",
    "                }\n",
    "            ]\n",
    "        }\n",
    "    ]\n",
    "})\n",
    "accept = 'application/json'\n",
    "contentType = 'application/json'\n",
    "start = time()\n",
    "response = br.invoke_model(body=body, modelId=cr_app_inf_profile_arn, accept=accept, contentType=contentType)\n",
    "end = time()\n",
    "response_body = json.loads(response.get('body').read())\n",
    "print(f\"Response output: {response_body['content'][0]['text']}\")"
   ]
  },
  {
   "cell_type": "markdown",
   "id": "963cee00-640d-4c0b-9ae5-c994e1689999",
   "metadata": {},
   "source": [
    "## Delete Inference Profiles"
   ]
  },
  {
   "cell_type": "code",
   "execution_count": null,
   "id": "1e896f9c-92ac-4c38-b495-885375db5492",
   "metadata": {},
   "outputs": [],
   "source": [
    "app_inf_profiles = bedrock.list_inference_profiles(typeEquals='APPLICATION')['inferenceProfileSummaries']\n",
    "app_inf_profiles"
   ]
  },
  {
   "cell_type": "code",
   "execution_count": 78,
   "id": "442e1b1f-2a9b-4668-8a9f-e8271966b10e",
   "metadata": {},
   "outputs": [],
   "source": [
    "for app_ip in app_inf_profiles:\n",
    "    response = bedrock.delete_inference_profile(inferenceProfileIdentifier=app_ip['inferenceProfileArn'])"
   ]
  },
  {
   "cell_type": "code",
   "execution_count": 79,
   "id": "8bfc3859-058f-4aad-bd27-0f86df0c9720",
   "metadata": {},
   "outputs": [
    {
     "data": {
      "text/plain": [
       "[]"
      ]
     },
     "execution_count": 79,
     "metadata": {},
     "output_type": "execute_result"
    }
   ],
   "source": [
    "app_inf_profiles = bedrock.list_inference_profiles(typeEquals='APPLICATION')['inferenceProfileSummaries']\n",
    "app_inf_profiles"
   ]
  },
  {
   "attachments": {},
   "cell_type": "markdown",
   "id": "5d310ca9-1b26-49ea-a225-f8ea9762b0e3",
   "metadata": {},
   "source": [
    "## Monitor in CloudWatch Logs\n",
    "\n",
    "You can monitor requests and usage metrics at the application inference profile level. To perform this, enable model invocation logging in Bedrock service settings and record to CloudWatch logs. Then from CloudWtach console, you can track requests submitted with an application inference profile to view usage metrics.\n",
    "\n",
    "<img src=\"application_inference_profile.png\" width=\"650\">\n"
   ]
  }
 ],
 "metadata": {
  "kernelspec": {
   "display_name": "Python 3 (ipykernel)",
   "language": "python",
   "name": "python3"
  },
  "language_info": {
   "codemirror_mode": {
    "name": "ipython",
    "version": 3
   },
   "file_extension": ".py",
   "mimetype": "text/x-python",
   "name": "python",
   "nbconvert_exporter": "python",
   "pygments_lexer": "ipython3",
   "version": "3.10.13"
  }
 },
 "nbformat": 4,
 "nbformat_minor": 5
}
