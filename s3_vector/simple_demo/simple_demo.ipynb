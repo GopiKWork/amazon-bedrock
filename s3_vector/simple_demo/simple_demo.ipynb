{
 "cells": [
  {
   "cell_type": "markdown",
   "metadata": {},
   "source": [
    "# Simple S3 Vector Demo\n",
    "\n",
    "This notebook demonstrates basic AWS S3 Vector capabilities with a simple automotive industry use case. It creates a small vector index with inline sample data and demonstrates core functionality.\n",
    "\n",
    "## Features demonstrated:\n",
    "- Vector bucket and index creation\n",
    "- Simple vector ingestion with metadata\n",
    "- Metadata filtering examples\n",
    "- Basic similarity search\n",
    "\n",
    "## Prerequisites:\n",
    "- AWS credentials configured\n",
    "- Required Python packages installed\n",
    "- S3 Vector permissions"
   ]
  },
  {
   "cell_type": "markdown",
   "metadata": {},
   "source": [
    "## Setup and Imports"
   ]
  },
  {
   "cell_type": "code",
   "execution_count": null,
   "metadata": {},
   "outputs": [],
   "source": [
    "import boto3\n",
    "from botocore.exceptions import ClientError\n",
    "from sentence_transformers import SentenceTransformer\n",
    "\n",
    "# Project imports\n",
    "from config import REGION_NAME, VECTOR_DIMENSION, DISTANCE_METRIC, get_bucket_name\n",
    "\n",
    "print(\"Imports successful!\")"
   ]
  },
  {
   "cell_type": "markdown",
   "metadata": {},
   "source": [
    "## Configuration"
   ]
  },
  {
   "cell_type": "code",
   "execution_count": null,
   "metadata": {},
   "outputs": [],
   "source": [
    "# Configuration\n",
    "index_name = \"simple-demo-index\"\n",
    "CLEAN_UP = False  # Set to True to remove buckets, indexes, and vectors after demo\n",
    "\n",
    "print(f\"Region: {REGION_NAME}\")\n",
    "print(f\"Vector Dimension: {VECTOR_DIMENSION}\")\n",
    "print(f\"Distance Metric: {DISTANCE_METRIC}\")\n",
    "print(f\"Index Name: {index_name}\")"
   ]
  },
  {
   "cell_type": "markdown",
   "metadata": {},
   "source": [
    "## Initialize AWS Clients"
   ]
  },
  {
   "cell_type": "code",
   "execution_count": null,
   "metadata": {},
   "outputs": [],
   "source": [
    "# Initialize AWS clients\n",
    "s3_vectors_client = boto3.client('s3vectors', region_name=REGION_NAME)\n",
    "sts_client = boto3.client('sts', region_name=REGION_NAME)\n",
    "\n",
    "# Get AWS account ID for bucket naming\n",
    "account_id = sts_client.get_caller_identity()['Account']\n",
    "bucket_name = get_bucket_name(account_id)\n",
    "\n",
    "print(f\"AWS Account ID: {account_id}\")\n",
    "print(f\"Vector Bucket Name: {bucket_name}\")"
   ]
  },
  {
   "cell_type": "markdown",
   "metadata": {},
   "source": [
    "## Create Vector Bucket"
   ]
  },
  {
   "cell_type": "code",
   "execution_count": null,
   "metadata": {},
   "outputs": [],
   "source": [
    "# Check if vector bucket already exists using S3 Vectors API\n",
    "try:\n",
    "    s3_vectors_client.get_vector_bucket(vectorBucketName=bucket_name)\n",
    "    print(f\"Using existing vector bucket: {bucket_name}\")\n",
    "except ClientError as e:\n",
    "    if e.response['Error']['Code'] in ['NoSuchBucket', 'NotFoundException']:\n",
    "        # Create vector bucket\n",
    "        try:\n",
    "            s3_vectors_client.create_vector_bucket(vectorBucketName=bucket_name)\n",
    "            print(f\"Created new vector bucket: {bucket_name}\")\n",
    "        except ClientError as create_error:\n",
    "            if create_error.response['Error']['Code'] == 'ConflictException':\n",
    "                print(f\"Using existing vector bucket: {bucket_name}\")\n",
    "            else:\n",
    "                raise\n",
    "    else:\n",
    "        raise"
   ]
  },
  {
   "cell_type": "markdown",
   "metadata": {},
   "source": [
    "## Create Vector Index"
   ]
  },
  {
   "cell_type": "code",
   "execution_count": null,
   "metadata": {},
   "outputs": [],
   "source": [
    "# Create vector index\n",
    "try:\n",
    "    s3_vectors_client.create_index(\n",
    "        vectorBucketName=bucket_name,\n",
    "        indexName=index_name,\n",
    "        dimension=VECTOR_DIMENSION,\n",
    "        distanceMetric=DISTANCE_METRIC,\n",
    "        dataType=\"float32\",\n",
    "        metadataConfiguration={\n",
    "            \"nonFilterableMetadataKeys\": [\n",
    "                \"full_description\",\n",
    "                \"contact_details\", \n",
    "                \"service_history\",\n",
    "                \"detailed_specs\"\n",
    "            ]\n",
    "        }\n",
    "    )\n",
    "    print(f\"Created index: {index_name}\")\n",
    "except ClientError as index_error:\n",
    "    if index_error.response['Error']['Code'] == 'ConflictException':\n",
    "        print(f\"Using existing index: {index_name}\")\n",
    "    else:\n",
    "        raise"
   ]
  },
  {
   "cell_type": "markdown",
   "metadata": {},
   "source": [
    "## Load Embedding Model"
   ]
  },
  {
   "cell_type": "code",
   "execution_count": null,
   "metadata": {},
   "outputs": [],
   "source": [
    "# Initialize embedding model\n",
    "print(\"Loading embedding model...\")\n",
    "model = SentenceTransformer('sentence-transformers/all-MiniLM-L6-v2')\n",
    "print(\"Embedding model loaded successfully!\")"
   ]
  },
  {
   "cell_type": "markdown",
   "metadata": {},
   "source": [
    "## Sample Data\n",
    "\n",
    "Let's look at the sample automotive dealer data we'll be working with:"
   ]
  },
  {
   "cell_type": "code",
   "execution_count": null,
   "metadata": {},
   "outputs": [],
   "source": [
    "# Sample automotive dealer data\n",
    "sample_texts = [\n",
    "    \"Toyota dealer in North region specializing in electric vehicle sales and service\",\n",
    "    \"Ford dealership in South region focusing on truck sales and commercial vehicles\", \n",
    "    \"BMW luxury vehicle dealer in West region with premium service offerings\",\n",
    "    \"Honda dealer in East region specializing in sedan and compact car sales\",\n",
    "    \"Chevrolet dealer in Central region with focus on SUV and family vehicle sales\",\n",
    "    \"Mercedes-Benz premium dealer in West region with luxury vehicle expertise\"\n",
    "]\n",
    "\n",
    "sample_metadata = [\n",
    "    {\"region\": \"North\", \"manufacturer\": \"Toyota\", \"vehicle_category\": \"electric\", \"year_established\": 2015, \"certified\": True, \"specialties\": [\"electric\", \"hybrid\"], \"full_description\": \"Toyota dealership specializing in electric and hybrid vehicles with comprehensive service center and charging station facilities.\", \"contact_details\": \"123 Electric Ave, North City, NC 12345. Phone: (555) 123-4567\", \"service_history\": \"Established 2015, served over 15,000 customers, 98% satisfaction rating\", \"detailed_specs\": \"50,000 sq ft showroom, 20 service bays, 10 charging stations\"},\n",
    "    {\"region\": \"South\", \"manufacturer\": \"Ford\", \"vehicle_category\": \"truck\", \"year_established\": 2010, \"certified\": True, \"specialties\": [\"truck\", \"commercial\"], \"full_description\": \"Ford dealership focusing on truck and commercial vehicle sales with extensive parts inventory and fleet services.\", \"contact_details\": \"456 Truck Blvd, South Town, ST 67890. Phone: (555) 234-5678\", \"service_history\": \"Operating since 2010, fleet partner for 200+ businesses, commercial vehicle specialist\", \"detailed_specs\": \"75,000 sq ft facility, 30 service bays, parts warehouse: 25,000 sq ft\"},\n",
    "    {\"region\": \"West\", \"manufacturer\": \"BMW\", \"vehicle_category\": \"luxury\", \"year_established\": 2008, \"certified\": True, \"specialties\": [\"luxury\", \"performance\"], \"full_description\": \"BMW luxury vehicle dealer offering premium sales and service experience with state-of-the-art facilities.\", \"contact_details\": \"789 Luxury Lane, West Hills, WH 13579. Phone: (555) 345-6789\", \"service_history\": \"Premium dealer since 2008, BMW Excellence Award winner 2019-2023\", \"detailed_specs\": \"40,000 sq ft showroom, 15 service bays, customer lounge with premium amenities\"},\n",
    "    {\"region\": \"East\", \"manufacturer\": \"Honda\", \"vehicle_category\": \"sedan\", \"year_established\": 2012, \"certified\": False, \"specialties\": [\"sedan\", \"compact\"], \"full_description\": \"Honda dealer specializing in sedan and compact car sales with focus on fuel efficiency and reliability.\", \"contact_details\": \"321 Economy Dr, East Valley, EV 24680. Phone: (555) 456-7890\", \"service_history\": \"Family business since 2012, community involvement leader, first-time buyer program\", \"detailed_specs\": \"30,000 sq ft dealership, 12 service bays, family waiting area\"},\n",
    "    {\"region\": \"Central\", \"manufacturer\": \"Chevrolet\", \"vehicle_category\": \"suv\", \"year_established\": 2018, \"certified\": True, \"specialties\": [\"suv\", \"family\"], \"full_description\": \"Chevrolet dealer with focus on SUV and family vehicle sales, offering comprehensive financing options.\", \"contact_details\": \"654 Family Way, Central City, CC 97531. Phone: (555) 567-8901\", \"service_history\": \"Established 2018, rapid growth dealer, family vehicle specialist\", \"detailed_specs\": \"45,000 sq ft facility, 18 service bays, kids play area\"},\n",
    "    {\"region\": \"West\", \"manufacturer\": \"Mercedes-Benz\", \"vehicle_category\": \"luxury\", \"year_established\": 2005, \"certified\": True, \"specialties\": [\"luxury\", \"premium\"], \"full_description\": \"Mercedes-Benz premium dealer offering the ultimate luxury vehicle experience with white-glove service.\", \"contact_details\": \"987 Premium Plaza, West Luxury, WL 86420. Phone: (555) 678-9012\", \"service_history\": \"Luxury dealer since 2005, Mercedes-Benz Circle of Excellence member\", \"detailed_specs\": \"60,000 sq ft flagship showroom, 25 service bays, VIP customer lounge\"}\n",
    "]\n",
    "\n",
    "print(f\"Sample data contains {len(sample_texts)} dealer descriptions\")\n",
    "print(\"\\nFirst dealer example:\")\n",
    "print(f\"Text: {sample_texts[0]}\")\n",
    "print(f\"Metadata: {sample_metadata[0]}\")"
   ]
  },
  {
   "cell_type": "markdown",
   "metadata": {},
   "source": [
    "## Generate Embeddings and Ingest Vectors"
   ]
  },
  {
   "cell_type": "code",
   "execution_count": null,
   "metadata": {},
   "outputs": [],
   "source": [
    "# Generate embeddings\n",
    "print(\"Generating embeddings...\")\n",
    "embeddings = model.encode(sample_texts)\n",
    "print(f\"Generated {len(embeddings)} embeddings with dimension {embeddings[0].shape[0]}\")\n",
    "\n",
    "# Prepare vectors for ingestion\n",
    "vectors_to_ingest = []\n",
    "for i, (text, metadata, embedding) in enumerate(zip(sample_texts, sample_metadata, embeddings)):\n",
    "    vectors_to_ingest.append({\n",
    "        \"key\": f\"demo_vector_{i+1}\",\n",
    "        \"data\": {\"float32\": embedding.tolist()},\n",
    "        \"metadata\": metadata\n",
    "    })\n",
    "\n",
    "print(f\"Prepared {len(vectors_to_ingest)} vectors for ingestion\")"
   ]
  },
  {
   "cell_type": "code",
   "execution_count": null,
   "metadata": {},
   "outputs": [],
   "source": [
    "# Ingest vectors into S3 Vector Store\n",
    "s3_vectors_client.put_vectors(\n",
    "    vectorBucketName=bucket_name,\n",
    "    indexName=index_name,\n",
    "    vectors=vectors_to_ingest\n",
    ")\n",
    "print(f\"Successfully ingested {len(vectors_to_ingest)} vectors into S3 Vector Store!\")"
   ]
  },
  {
   "cell_type": "markdown",
   "metadata": {},
   "source": [
    "## Search Examples\n",
    "\n",
    "Now let's demonstrate different types of searches with metadata filtering:"
   ]
  },
  {
   "cell_type": "markdown",
   "metadata": {},
   "source": [
    "### Example 1: Simple Equality Filter"
   ]
  },
  {
   "cell_type": "code",
   "execution_count": null,
   "metadata": {},
   "outputs": [],
   "source": [
    "print(\"=== Example 1: Simple equality filter ===\")\n",
    "query_text = \"Looking for luxury vehicle dealers\"\n",
    "print(f\"Query: {query_text}\")\n",
    "print(\"Filter: region = 'West'\")\n",
    "\n",
    "query_embedding = model.encode([query_text])[0]\n",
    "search_results = s3_vectors_client.query_vectors(\n",
    "    vectorBucketName=bucket_name,\n",
    "    indexName=index_name,\n",
    "    queryVector={\"float32\": query_embedding.tolist()},\n",
    "    topK=3,\n",
    "    filter={\"region\": \"West\"},\n",
    "    returnDistance=True,\n",
    "    returnMetadata=True\n",
    ")\n",
    "\n",
    "print(\"\\nResults:\")\n",
    "if 'vectors' in search_results:\n",
    "    for i, result in enumerate(search_results['vectors'], 1):\n",
    "        similarity = 1.0 - result.get('distance', 0.0)\n",
    "        metadata = result.get('metadata', {})\n",
    "        print(f\"  {i}. {metadata.get('manufacturer', 'N/A')} - {metadata.get('region', 'N/A')} (Score: {similarity:.4f})\")\n",
    "        print(f\"     Description: {metadata.get('full_description', 'N/A')[:80]}...\")"
   ]
  },
  {
   "cell_type": "markdown",
   "metadata": {},
   "source": [
    "### Example 2: Numeric Comparison Filter"
   ]
  },
  {
   "cell_type": "code",
   "execution_count": null,
   "metadata": {},
   "outputs": [],
   "source": [
    "print(\"=== Example 2: Numeric comparison filter ===\")\n",
    "query_text = \"Established dealerships with experience\"\n",
    "print(f\"Query: {query_text}\")\n",
    "print(\"Filter: year_established >= 2010\")\n",
    "\n",
    "query_embedding = model.encode([query_text])[0]\n",
    "search_results = s3_vectors_client.query_vectors(\n",
    "    vectorBucketName=bucket_name,\n",
    "    indexName=index_name,\n",
    "    queryVector={\"float32\": query_embedding.tolist()},\n",
    "    topK=4,\n",
    "    filter={\"year_established\": {\"$gte\": 2010}},\n",
    "    returnDistance=True,\n",
    "    returnMetadata=True\n",
    ")\n",
    "\n",
    "print(\"\\nResults:\")\n",
    "if 'vectors' in search_results:\n",
    "    for i, result in enumerate(search_results['vectors'], 1):\n",
    "        similarity = 1.0 - result.get('distance', 0.0)\n",
    "        metadata = result.get('metadata', {})\n",
    "        print(f\"  {i}. {metadata.get('manufacturer', 'N/A')} - Est. {metadata.get('year_established', 'N/A')} (Score: {similarity:.4f})\")\n",
    "        print(f\"     Contact: {metadata.get('contact_details', 'N/A')[:60]}...\")"
   ]
  },
  {
   "cell_type": "markdown",
   "metadata": {},
   "source": [
    "### Example 3: Boolean Filter"
   ]
  },
  {
   "cell_type": "code",
   "execution_count": null,
   "metadata": {},
   "outputs": [],
   "source": [
    "print(\"=== Example 3: Boolean filter ===\")\n",
    "query_text = \"Certified automotive dealers\"\n",
    "print(f\"Query: {query_text}\")\n",
    "print(\"Filter: certified = true\")\n",
    "\n",
    "query_embedding = model.encode([query_text])[0]\n",
    "search_results = s3_vectors_client.query_vectors(\n",
    "    vectorBucketName=bucket_name,\n",
    "    indexName=index_name,\n",
    "    queryVector={\"float32\": query_embedding.tolist()},\n",
    "    topK=3,\n",
    "    filter={\"certified\": True},\n",
    "    returnDistance=True,\n",
    "    returnMetadata=True\n",
    ")\n",
    "\n",
    "print(\"\\nResults:\")\n",
    "if 'vectors' in search_results:\n",
    "    for i, result in enumerate(search_results['vectors'], 1):\n",
    "        similarity = 1.0 - result.get('distance', 0.0)\n",
    "        metadata = result.get('metadata', {})\n",
    "        print(f\"  {i}. {metadata.get('manufacturer', 'N/A')} - Certified: {metadata.get('certified', 'N/A')} (Score: {similarity:.4f})\")\n",
    "        print(f\"     Service History: {metadata.get('service_history', 'N/A')[:70]}...\")"
   ]
  },
  {
   "cell_type": "markdown",
   "metadata": {},
   "source": [
    "## Understanding S3 Vector Operations\n",
    "\n",
    "This demo shows the core concepts of S3 Vector Store:\n",
    "\n",
    "1. **Vector Bucket**: Container for all vector data\n",
    "2. **Index**: Defines the vector space (dimension, distance metric)\n",
    "3. **Embeddings**: Numerical representations of text that capture semantic meaning\n",
    "4. **Metadata Filtering**: Combine semantic search with structured data filters\n",
    "5. **Similarity Search**: Find semantically similar content using vector distance\n",
    "\n",
    "The automotive dealer example demonstrates how vector search can find relevant dealers even when the query doesn't exactly match the text, enabling more natural and flexible search experiences."
   ]
  },
  {
   "cell_type": "markdown",
   "metadata": {},
   "source": [
    "## Optional Cleanup"
   ]
  },
  {
   "cell_type": "code",
   "execution_count": null,
   "metadata": {},
   "outputs": [],
   "source": [
    "# Cleanup based on CLEAN_UP flag\n",
    "if CLEAN_UP:\n",
    "    print(\"Cleaning up resources...\")\n",
    "    try:\n",
    "        s3_vectors_client.delete_index(vectorBucketName=bucket_name, indexName=index_name)\n",
    "        print(f\"Deleted index: {index_name}\")\n",
    "        \n",
    "        s3_vectors_client.delete_vector_bucket(vectorBucketName=bucket_name)\n",
    "        print(f\"Deleted vector bucket: {bucket_name}\")\n",
    "        \n",
    "        print(\"Resources cleaned up successfully!\")\n",
    "    except Exception as e:\n",
    "        print(f\"Cleanup error: {e}\")\n",
    "else:\n",
    "    print(\"Cleanup skipped (CLEAN_UP = False)\")\n",
    "    print(f\"Vector bucket '{bucket_name}' and index '{index_name}' remain available for further experimentation.\")"
   ]
  },
  {
   "cell_type": "markdown",
   "metadata": {},
   "source": [
    "## Summary\n",
    "\n",
    "This notebook demonstrated:\n",
    "- Creating S3 Vector buckets and indexes\n",
    "- Generating embeddings from text using sentence-transformers\n",
    "- Ingesting vectors with rich metadata\n",
    "- Performing semantic search with various metadata filters\n",
    "- Understanding similarity scores and results\n",
    "\n",
    "Next steps:\n",
    "- Try the LangChain demo for RAG integration\n",
    "- Explore multimodal patterns with images\n",
    "- Build conversational agents with Strands"
   ]
  }
 ],
 "metadata": {
  "kernelspec": {
   "display_name": "Python 3 (ipykernel)",
   "language": "python",
   "name": "python3"
  },
  "language_info": {
   "codemirror_mode": {
    "name": "ipython",
    "version": 3
   },
   "file_extension": ".py",
   "mimetype": "text/x-python",
   "name": "python",
   "nbconvert_exporter": "python",
   "pygments_lexer": "ipython3",
   "version": "3.10.14"
  }
 },
 "nbformat": 4,
 "nbformat_minor": 4
}
