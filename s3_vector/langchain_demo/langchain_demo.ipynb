{
 "cells": [
  {
   "cell_type": "markdown",
   "metadata": {},
   "source": [
    "# LangChain S3 Vector Store RAG Demo\n",
    "\n",
    "This notebook demonstrates how to use the S3VectorStore with LangChain to create a Retrieval-Augmented Generation (RAG) pipeline using Amazon Bedrock Nova Pro model.\n",
    "\n",
    "## Features:\n",
    "- Document ingestion into S3 vector store\n",
    "- LangChain retriever creation from vector store\n",
    "- RAG chain with Bedrock Nova Pro\n",
    "- Automotive domain question answering\n",
    "\n",
    "## Prerequisites:\n",
    "- AWS credentials configured\n",
    "- LangChain and LangChain AWS packages installed\n",
    "- Access to Amazon Bedrock Nova Pro model"
   ]
  },
  {
   "cell_type": "markdown",
   "metadata": {},
   "source": [
    "## Setup and Imports"
   ]
  },
  {
   "cell_type": "code",
   "execution_count": null,
   "metadata": {},
   "outputs": [],
   "source": [
    "import logging\n",
    "import sys\n",
    "import os\n",
    "import boto3\n",
    "\n",
    "# LangChain imports\n",
    "try:\n",
    "    from langchain_aws import ChatBedrock\n",
    "    from langchain_core.prompts import ChatPromptTemplate\n",
    "    from langchain_core.runnables import RunnablePassthrough\n",
    "    from langchain_core.output_parsers import StrOutputParser\n",
    "    from langchain_core.documents import Document\n",
    "    print(\"LangChain imports successful!\")\n",
    "except ImportError as e:\n",
    "    print(f\"Error importing LangChain packages: {e}\")\n",
    "    print(\"Please install required packages:\")\n",
    "    print(\"pip install langchain langchain-aws langchain-core\")\n",
    "    raise\n",
    "\n",
    "# Project imports\n",
    "from langchain_community.vectorstores import S3VectorStore\n",
    "from config import REGION_NAME, NOVA_PRO_MODEL_ID, get_bucket_name\n",
    "\n",
    "# Configure logging\n",
    "logging.basicConfig(\n",
    "    level=logging.INFO,\n",
    "    format='%(asctime)s - %(levelname)s - %(message)s'\n",
    ")\n",
    "logger = logging.getLogger(__name__)\n",
    "\n",
    "print(\"All imports successful!\")"
   ]
  },
  {
   "cell_type": "markdown",
   "metadata": {},
   "source": [
    "## Sample Automotive Documents\n",
    "\n",
    "Let's create sample automotive technical documents for our knowledge base:"
   ]
  },
  {
   "cell_type": "code",
   "execution_count": null,
   "metadata": {},
   "outputs": [],
   "source": [
    "def create_sample_documents():\n",
    "    \"\"\"Create sample automotive documents for demonstration.\"\"\"\n",
    "    return [\n",
    "        Document(\n",
    "            page_content=\"The 2019 Honda Accord is equipped with a 1.5L turbocharged engine that may experience intermittent starting issues due to fuel injector problems. Common symptoms include rough idle, delayed starts, and occasional stalling. The repair typically involves cleaning or replacing fuel injectors and updating the ECU software.\",\n",
    "            metadata={\n",
    "                \"manufacturer\": \"Honda\",\n",
    "                \"model\": \"Accord\",\n",
    "                \"year\": 2019,\n",
    "                \"issue_type\": \"engine\",\n",
    "                \"severity\": \"medium\"\n",
    "            }\n",
    "        ),\n",
    "        Document(\n",
    "            page_content=\"BMW X3 brake pad replacement requires specific OEM parts and proper bedding procedure. Front brake pads typically last 30,000-50,000 miles. Signs of wear include squealing, grinding, or reduced braking performance. Always replace pads in pairs and resurface or replace rotors if thickness is below specification.\",\n",
    "            metadata={\n",
    "                \"manufacturer\": \"BMW\",\n",
    "                \"model\": \"X3\",\n",
    "                \"issue_type\": \"brake\",\n",
    "                \"severity\": \"low\",\n",
    "                \"maintenance\": True\n",
    "            }\n",
    "        ),\n",
    "        Document(\n",
    "            page_content=\"Ford F-150 transmission problems often manifest as shuddering during acceleration, especially in 2018 models. This is commonly caused by torque converter issues or transmission fluid contamination. Repair involves transmission fluid flush, torque converter replacement, and software updates. Labor time is typically 8-12 hours.\",\n",
    "            metadata={\n",
    "                \"manufacturer\": \"Ford\",\n",
    "                \"model\": \"F-150\",\n",
    "                \"year\": 2018,\n",
    "                \"issue_type\": \"transmission\",\n",
    "                \"severity\": \"high\"\n",
    "            }\n",
    "        ),\n",
    "        Document(\n",
    "            page_content=\"Tesla Model 3 suspension issues in 2021 models include premature wear of control arm bushings and shock absorber mounts. Symptoms include clunking noises over bumps and uneven tire wear. Tesla has issued service bulletins for these components and extended warranty coverage for affected vehicles.\",\n",
    "            metadata={\n",
    "                \"manufacturer\": \"Tesla\",\n",
    "                \"model\": \"Model 3\",\n",
    "                \"year\": 2021,\n",
    "                \"issue_type\": \"suspension\",\n",
    "                \"severity\": \"medium\",\n",
    "                \"warranty_covered\": True\n",
    "            }\n",
    "        ),\n",
    "        Document(\n",
    "            page_content=\"Toyota Prius hybrid battery replacement on 2017 models requires specialized tools and safety procedures. The high-voltage battery typically lasts 8-10 years or 100,000-150,000 miles. Symptoms of battery failure include reduced fuel economy, warning lights, and inability to start in electric mode. Replacement cost ranges from $3,000-$4,500 including labor.\",\n",
    "            metadata={\n",
    "                \"manufacturer\": \"Toyota\",\n",
    "                \"model\": \"Prius\",\n",
    "                \"year\": 2017,\n",
    "                \"issue_type\": \"electrical\",\n",
    "                \"component\": \"hybrid_battery\",\n",
    "                \"severity\": \"high\"\n",
    "            }\n",
    "        )\n",
    "    ]\n",
    "\n",
    "# Create and display sample documents\n",
    "sample_docs = create_sample_documents()\n",
    "print(f\"Created {len(sample_docs)} sample automotive documents\")\n",
    "\n",
    "print(\"\\nSample document:\")\n",
    "print(f\"Content: {sample_docs[0].page_content[:100]}...\")\n",
    "print(f\"Metadata: {sample_docs[0].metadata}\")"
   ]
  },
  {
   "cell_type": "markdown",
   "metadata": {},
   "source": [
    "## Setup S3 Vector Store"
   ]
  },
  {
   "cell_type": "code",
   "execution_count": null,
   "metadata": {},
   "outputs": [],
   "source": [
    "def setup_vector_store():\n",
    "    \"\"\"Set up the S3 vector store with sample data.\"\"\"\n",
    "    try:\n",
    "        logger.info(\"Setting up S3 vector store...\")\n",
    "        \n",
    "        # Get bucket name\n",
    "        sts_client = boto3.client('sts', region_name=REGION_NAME)\n",
    "        account_id = sts_client.get_caller_identity()['Account']\n",
    "        bucket_name = get_bucket_name(account_id)\n",
    "        \n",
    "        print(f\"Using bucket: {bucket_name}\")\n",
    "        \n",
    "        # Create vector store from documents\n",
    "        vector_store = S3VectorStore.from_documents(\n",
    "            documents=sample_docs,\n",
    "            bucket_name=bucket_name,\n",
    "            index_name=\"langchain-demo-index\"\n",
    "        )\n",
    "        \n",
    "        logger.info(f\"Successfully created vector store with {len(sample_docs)} documents\")\n",
    "        print(f\"Vector store created with {len(sample_docs)} documents\")\n",
    "        return vector_store\n",
    "        \n",
    "    except Exception as e:\n",
    "        logger.error(f\"Failed to setup vector store: {e}\")\n",
    "        raise\n",
    "\n",
    "# Setup the vector store\n",
    "vector_store = setup_vector_store()"
   ]
  },
  {
   "cell_type": "markdown",
   "metadata": {},
   "source": [
    "## Create RAG Chain with Bedrock Nova"
   ]
  },
  {
   "cell_type": "code",
   "execution_count": null,
   "metadata": {},
   "outputs": [],
   "source": [
    "def create_rag_chain(vector_store):\n",
    "    \"\"\"Create a RAG chain using the vector store and Bedrock Nova.\"\"\"\n",
    "    try:\n",
    "        logger.info(\"Creating RAG chain with Bedrock Nova...\")\n",
    "        \n",
    "        # Create retriever from vector store\n",
    "        retriever = vector_store.as_retriever(\n",
    "            search_kwargs={\"k\": 3}  # Retrieve top 3 most relevant documents\n",
    "        )\n",
    "        print(\"Created retriever from vector store\")\n",
    "        \n",
    "        # Initialize Bedrock Nova model\n",
    "        llm = ChatBedrock(\n",
    "            model_id=NOVA_PRO_MODEL_ID,\n",
    "            region_name=REGION_NAME,\n",
    "            model_kwargs={\n",
    "                \"inferenceConfig\": {\n",
    "                    \"maxTokens\": 1000,\n",
    "                    \"temperature\": 0.3,\n",
    "                    \"topP\": 0.9\n",
    "                }\n",
    "            }\n",
    "        )\n",
    "        print(\"Initialized Bedrock Nova Pro model\")\n",
    "        \n",
    "        # Create prompt template\n",
    "        prompt = ChatPromptTemplate.from_template(\"\"\"\n",
    "You are an expert automotive technical advisor. Use the following context to answer the question accurately and professionally.\n",
    "\n",
    "Context:\n",
    "{context}\n",
    "\n",
    "Question: {question}\n",
    "\n",
    "Provide a detailed technical answer based on the context. Include specific information about:\n",
    "- Root cause analysis\n",
    "- Repair procedures\n",
    "- Parts requirements\n",
    "- Labor estimates\n",
    "- Warranty considerations (if applicable)\n",
    "\n",
    "Answer:\"\"\")\n",
    "        \n",
    "        # Create the RAG chain\n",
    "        def format_docs(docs):\n",
    "            return \"\\n\\n\".join(doc.page_content for doc in docs)\n",
    "        \n",
    "        rag_chain = (\n",
    "            {\"context\": retriever | format_docs, \"question\": RunnablePassthrough()}\n",
    "            | prompt\n",
    "            | llm\n",
    "            | StrOutputParser()\n",
    "        )\n",
    "        \n",
    "        logger.info(\"Successfully created RAG chain\")\n",
    "        print(\"RAG chain created successfully!\")\n",
    "        return rag_chain\n",
    "        \n",
    "    except Exception as e:\n",
    "        logger.error(f\"Failed to create RAG chain: {e}\")\n",
    "        raise\n",
    "\n",
    "# Create the RAG chain\n",
    "rag_chain = create_rag_chain(vector_store)"
   ]
  },
  {
   "cell_type": "markdown",
   "metadata": {},
   "source": [
    "## Sample Queries\n",
    "\n",
    "Now let's test our RAG system with automotive technical questions:"
   ]
  },
  {
   "cell_type": "code",
   "execution_count": null,
   "metadata": {},
   "outputs": [],
   "source": [
    "# Define sample queries\n",
    "sample_queries = [\n",
    "    \"What causes starting issues in 2019 Honda Accord?\",\n",
    "    \"How do I replace brake pads on a BMW X3?\",\n",
    "    \"What are the symptoms of Ford F-150 transmission problems?\",\n",
    "    \"How much does it cost to replace a Toyota Prius hybrid battery?\",\n",
    "    \"What suspension issues affect Tesla Model 3?\"\n",
    "]\n",
    "\n",
    "print(\"Sample queries prepared:\")\n",
    "for i, query in enumerate(sample_queries, 1):\n",
    "    print(f\"{i}. {query}\")"
   ]
  },
  {
   "cell_type": "markdown",
   "metadata": {},
   "source": [
    "### Query 1: Honda Accord Starting Issues"
   ]
  },
  {
   "cell_type": "code",
   "execution_count": null,
   "metadata": {},
   "outputs": [],
   "source": [
    "query = sample_queries[0]\n",
    "print(f\"Query: {query}\")\n",
    "print(\"-\" * 60)\n",
    "\n",
    "try:\n",
    "    response = rag_chain.invoke(query)\n",
    "    print(f\"Response:\\n{response}\")\n",
    "except Exception as e:\n",
    "    print(f\"Error processing query: {e}\")\n",
    "\n",
    "print(\"-\" * 60)"
   ]
  },
  {
   "cell_type": "markdown",
   "metadata": {},
   "source": [
    "### Query 2: BMW X3 Brake Pad Replacement"
   ]
  },
  {
   "cell_type": "code",
   "execution_count": null,
   "metadata": {},
   "outputs": [],
   "source": [
    "query = sample_queries[1]\n",
    "print(f\"Query: {query}\")\n",
    "print(\"-\" * 60)\n",
    "\n",
    "try:\n",
    "    response = rag_chain.invoke(query)\n",
    "    print(f\"Response:\\n{response}\")\n",
    "except Exception as e:\n",
    "    print(f\"Error processing query: {e}\")\n",
    "\n",
    "print(\"-\" * 60)"
   ]
  },
  {
   "cell_type": "markdown",
   "metadata": {},
   "source": [
    "### Query 3: Ford F-150 Transmission Problems"
   ]
  },
  {
   "cell_type": "code",
   "execution_count": null,
   "metadata": {},
   "outputs": [],
   "source": [
    "query = sample_queries[2]\n",
    "print(f\"Query: {query}\")\n",
    "print(\"-\" * 60)\n",
    "\n",
    "try:\n",
    "    response = rag_chain.invoke(query)\n",
    "    print(f\"Response:\\n{response}\")\n",
    "except Exception as e:\n",
    "    print(f\"Error processing query: {e}\")\n",
    "\n",
    "print(\"-\" * 60)"
   ]
  },
  {
   "cell_type": "markdown",
   "metadata": {},
   "source": [
    "### Query 4: Toyota Prius Hybrid Battery Cost"
   ]
  },
  {
   "cell_type": "code",
   "execution_count": null,
   "metadata": {},
   "outputs": [],
   "source": [
    "query = sample_queries[3]\n",
    "print(f\"Query: {query}\")\n",
    "print(\"-\" * 60)\n",
    "\n",
    "try:\n",
    "    response = rag_chain.invoke(query)\n",
    "    print(f\"Response:\\n{response}\")\n",
    "except Exception as e:\n",
    "    print(f\"Error processing query: {e}\")\n",
    "\n",
    "print(\"-\" * 60)"
   ]
  },
  {
   "cell_type": "markdown",
   "metadata": {},
   "source": [
    "### Query 5: Tesla Model 3 Suspension Issues"
   ]
  },
  {
   "cell_type": "code",
   "execution_count": null,
   "metadata": {},
   "outputs": [],
   "source": [
    "query = sample_queries[4]\n",
    "print(f\"Query: {query}\")\n",
    "print(\"-\" * 60)\n",
    "\n",
    "try:\n",
    "    response = rag_chain.invoke(query)\n",
    "    print(f\"Response:\\n{response}\")\n",
    "except Exception as e:\n",
    "    print(f\"Error processing query: {e}\")\n",
    "\n",
    "print(\"-\" * 60)"
   ]
  },
  {
   "cell_type": "markdown",
   "metadata": {},
   "source": [
    "## Interactive Query Section\n",
    "\n",
    "Try your own automotive technical questions:"
   ]
  },
  {
   "cell_type": "code",
   "execution_count": null,
   "metadata": {},
   "outputs": [],
   "source": [
    "# Interactive query - modify this cell to ask your own questions\n",
    "custom_query = \"What are common electrical issues in hybrid vehicles?\"\n",
    "\n",
    "print(f\"Custom Query: {custom_query}\")\n",
    "print(\"-\" * 60)\n",
    "\n",
    "try:\n",
    "    response = rag_chain.invoke(custom_query)\n",
    "    print(f\"Response:\\n{response}\")\n",
    "except Exception as e:\n",
    "    print(f\"Error processing query: {e}\")\n",
    "\n",
    "print(\"-\" * 60)"
   ]
  },
  {
   "cell_type": "markdown",
   "metadata": {},
   "source": [
    "## Understanding the RAG Pipeline\n",
    "\n",
    "This notebook demonstrates the complete RAG (Retrieval-Augmented Generation) pipeline:\n",
    "\n",
    "1. **Document Ingestion**: Automotive technical documents are embedded and stored in S3 Vector Store\n",
    "2. **Retrieval**: When a question is asked, the most relevant documents are retrieved using semantic search\n",
    "3. **Augmentation**: Retrieved documents provide context to the language model\n",
    "4. **Generation**: Amazon Bedrock Nova Pro generates comprehensive answers based on the retrieved context\n",
    "\n",
    "### Key Benefits:\n",
    "- **Accurate Information**: Answers are grounded in your specific technical documentation\n",
    "- **Up-to-date Knowledge**: Easy to update the knowledge base with new documents\n",
    "- **Scalable**: Can handle large volumes of technical documentation\n",
    "- **Cost-effective**: Only retrieves relevant information, reducing token usage\n",
    "\n",
    "### LangChain Integration:\n",
    "- **S3VectorStore**: Custom integration with AWS S3 Vector Store\n",
    "- **Retriever**: Seamless integration with LangChain's retrieval interface\n",
    "- **Chain Composition**: Easy to build complex workflows with LangChain's LCEL syntax\n",
    "- **Model Flexibility**: Can easily swap different language models"
   ]
  },
  {
   "cell_type": "markdown",
   "metadata": {},
   "source": [
    "## Next Steps\n",
    "\n",
    "To extend this demo:\n",
    "\n",
    "1. **Add More Documents**: Expand the knowledge base with more automotive technical documentation\n",
    "2. **Implement Filtering**: Add metadata filtering to retrieve documents for specific manufacturers or years\n",
    "3. **Add Memory**: Implement conversation memory for multi-turn interactions\n",
    "4. **Custom Prompts**: Experiment with different prompt templates for specific use cases\n",
    "5. **Evaluation**: Add evaluation metrics to measure RAG performance\n",
    "6. **Multimodal**: Combine with image processing for visual diagnostic support\n",
    "\n",
    "This foundation can be extended to build production-ready automotive technical support systems, diagnostic assistants, and knowledge management platforms."
   ]
  }
 ],
 "metadata": {
  "kernelspec": {
   "display_name": "Python 3 (ipykernel)",
   "language": "python",
   "name": "python3"
  },
  "language_info": {
   "codemirror_mode": {
    "name": "ipython",
    "version": 3
   },
   "file_extension": ".py",
   "mimetype": "text/x-python",
   "name": "python",
   "nbconvert_exporter": "python",
   "pygments_lexer": "ipython3",
   "version": "3.10.14"
  }
 },
 "nbformat": 4,
 "nbformat_minor": 4
}
